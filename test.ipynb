{
 "cells": [
  {
   "cell_type": "code",
   "execution_count": 1,
   "metadata": {
    "collapsed": true
   },
   "outputs": [],
   "source": [
    "import pandas as pd\n",
    "import torch"
   ]
  },
  {
   "cell_type": "code",
   "execution_count": 5,
   "outputs": [
    {
     "name": "stdout",
     "output_type": "stream",
     "text": [
      "torch.Size([3, 10, 2])\n"
     ]
    },
    {
     "data": {
      "text/plain": "tensor([[[ 0.7274,  1.1090],\n         [ 1.5758,  1.2963],\n         [ 0.4925, -0.7227],\n         [-1.3617, -0.0141],\n         [ 0.5592,  0.3923],\n         [-0.9354, -0.1629],\n         [ 0.8798, -0.7055],\n         [-0.7422,  0.1480],\n         [-1.0169,  1.4347],\n         [-0.8847, -0.6141]],\n\n        [[-1.4663, -0.9447],\n         [ 0.9291,  1.8346],\n         [ 1.7019, -1.0503],\n         [-0.8422, -0.3219],\n         [-1.3486,  0.0946],\n         [ 0.1569,  1.6361],\n         [-0.1627, -0.2741],\n         [-1.1794, -0.5699],\n         [-0.5885, -0.4612],\n         [-0.5048,  0.4766]],\n\n        [[ 0.2969, -1.0112],\n         [-0.0256, -1.5108],\n         [ 1.9946,  1.7809],\n         [-0.4144, -0.5957],\n         [ 0.1216, -0.4701],\n         [-0.2138,  1.6508],\n         [-1.4852,  1.3161],\n         [-0.2173, -0.6043],\n         [-0.4651,  0.5505],\n         [-1.0631,  1.0039]]])"
     },
     "execution_count": 5,
     "metadata": {},
     "output_type": "execute_result"
    }
   ],
   "source": [
    "a = torch.randn(3,10,2)\n",
    "print(a.shape)\n",
    "a"
   ],
   "metadata": {
    "collapsed": false,
    "pycharm": {
     "name": "#%%\n"
    }
   }
  },
  {
   "cell_type": "code",
   "execution_count": 26,
   "outputs": [
    {
     "name": "stdout",
     "output_type": "stream",
     "text": [
      "[[[1 2]\n",
      "  [3 4]\n",
      "  [5 6]\n",
      "  [7 8]]]\n",
      "3\n",
      "[[1 3 5 7]]\n"
     ]
    }
   ],
   "source": [
    "import numpy as np\n",
    "img = np.array([[[1,2], [3, 4], [5,6], [7,8]]])\n",
    "print(img)\n",
    "print(len(img.shape))\n",
    "# img = img[:, :, 0] if len(img.shape) == 3 else img\n",
    "if len(img.shape) == 3:\n",
    "   img = img[:, :, 0]\n",
    "else:\n",
    "    img = img\n",
    "\n",
    "print(img)"
   ],
   "metadata": {
    "collapsed": false,
    "pycharm": {
     "name": "#%%\n"
    }
   }
  },
  {
   "cell_type": "code",
   "execution_count": 1,
   "outputs": [],
   "source": [
    "import pandas as pd"
   ],
   "metadata": {
    "collapsed": false,
    "pycharm": {
     "name": "#%%\n"
    }
   }
  },
  {
   "cell_type": "code",
   "execution_count": null,
   "outputs": [],
   "source": [
    "data = pd.read_csv('./data/ETT/xixia_ms.csv')\n",
    "data.head()\n"
   ],
   "metadata": {
    "collapsed": false,
    "pycharm": {
     "name": "#%%\n",
     "is_executing": true
    }
   }
  }
 ],
 "metadata": {
  "kernelspec": {
   "display_name": "Python 3",
   "language": "python",
   "name": "python3"
  },
  "language_info": {
   "codemirror_mode": {
    "name": "ipython",
    "version": 2
   },
   "file_extension": ".py",
   "mimetype": "text/x-python",
   "name": "python",
   "nbconvert_exporter": "python",
   "pygments_lexer": "ipython2",
   "version": "2.7.6"
  }
 },
 "nbformat": 4,
 "nbformat_minor": 0
}